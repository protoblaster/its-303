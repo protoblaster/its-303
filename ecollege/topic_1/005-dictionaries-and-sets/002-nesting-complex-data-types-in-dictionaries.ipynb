{
 "cells": [
  {
   "cell_type": "code",
   "execution_count": 1,
   "id": "208371f5",
   "metadata": {},
   "outputs": [
    {
     "data": {
      "text/plain": [
       "{}"
      ]
     },
     "execution_count": 1,
     "metadata": {},
     "output_type": "execute_result"
    }
   ],
   "source": [
    "fruit_qty = {}\n",
    "fruit_qty"
   ]
  },
  {
   "cell_type": "code",
   "execution_count": 2,
   "id": "f8a323ad",
   "metadata": {},
   "outputs": [
    {
     "data": {
      "text/plain": [
       "{'Banana': 50, 'Apple': 78, 'Apricot': 40}"
      ]
     },
     "execution_count": 2,
     "metadata": {},
     "output_type": "execute_result"
    }
   ],
   "source": [
    "# create key:value pairs\n",
    "fruit_qty[\"Banana\"] = 50\n",
    "fruit_qty[\"Apple\"] = 78\n",
    "fruit_qty[\"Apricot\"] = 40\n",
    "fruit_qty"
   ]
  },
  {
   "cell_type": "code",
   "execution_count": 3,
   "id": "c49fcfbc",
   "metadata": {},
   "outputs": [
    {
     "data": {
      "text/plain": [
       "{'Banana': 50, 'Apple': 78, 'Apricot': 40, 'Orange': 70, 'Avocado': 30}"
      ]
     },
     "execution_count": 3,
     "metadata": {},
     "output_type": "execute_result"
    }
   ],
   "source": [
    "# Add some more key:value pairs\n",
    "fruit_qty[\"Orange\"] = 70\n",
    "fruit_qty[\"Avocado\"] = 30\n",
    "fruit_qty"
   ]
  },
  {
   "cell_type": "code",
   "execution_count": 4,
   "id": "38e9e63b",
   "metadata": {},
   "outputs": [
    {
     "data": {
      "text/plain": [
       "40"
      ]
     },
     "execution_count": 4,
     "metadata": {},
     "output_type": "execute_result"
    }
   ],
   "source": [
    "# find the quantity of Apricots\n",
    "fruit_qty[\"Apricot\"]"
   ]
  },
  {
   "cell_type": "code",
   "execution_count": 5,
   "id": "319e34eb",
   "metadata": {},
   "outputs": [
    {
     "data": {
      "text/plain": [
       "{'Banana': 50,\n",
       " 'Apple': 78,\n",
       " 'Apricot': 40,\n",
       " 'Orange': 70,\n",
       " 'Avocado': 30,\n",
       " 'Watermelon': 10}"
      ]
     },
     "execution_count": 5,
     "metadata": {},
     "output_type": "execute_result"
    }
   ],
   "source": [
    "# Add watermelons to fruit_qty\n",
    "fruit_qty[\"Watermelon\"] = 10\n",
    "fruit_qty"
   ]
  },
  {
   "cell_type": "code",
   "execution_count": 7,
   "id": "6ac89a25",
   "metadata": {},
   "outputs": [
    {
     "data": {
      "text/plain": [
       "{'Banana': [50, 60, 40, 55],\n",
       " 'Apple': [78, 86, 80, 60],\n",
       " 'Apricot': [40, 70, 30, 55],\n",
       " 'Orange': [70, 80, 60, 65],\n",
       " 'Avocado': [30, 50, 40, 45]}"
      ]
     },
     "execution_count": 7,
     "metadata": {},
     "output_type": "execute_result"
    }
   ],
   "source": [
    "# creating a dictionary with complex data type\n",
    "# this example will be a list but it can be any data type\n",
    "fruit_qty_consumed = {\"Banana\" : [50, 60, 40, 55],\n",
    "                      \"Apple\" : [78, 86, 80, 60],\n",
    "                      \"Apricot\" : [40, 70, 30, 55],\n",
    "                      \"Orange\" : [70, 80, 60, 65],\n",
    "                      \"Avocado\" : [30, 50, 40, 45]}\n",
    "fruit_qty_consumed"
   ]
  },
  {
   "cell_type": "code",
   "execution_count": 8,
   "id": "37448e3f",
   "metadata": {},
   "outputs": [
    {
     "data": {
      "text/plain": [
       "65"
      ]
     },
     "execution_count": 8,
     "metadata": {},
     "output_type": "execute_result"
    }
   ],
   "source": [
    "# access an element within a list \n",
    "fruit_qty_consumed[\"Orange\"][3]"
   ]
  },
  {
   "cell_type": "code",
   "execution_count": 9,
   "id": "ad6475c0",
   "metadata": {},
   "outputs": [
    {
     "data": {
      "text/plain": [
       "[30, 50, 40, 45]"
      ]
     },
     "execution_count": 9,
     "metadata": {},
     "output_type": "execute_result"
    }
   ],
   "source": [
    "fruit_qty_consumed[\"Avocado\"]"
   ]
  },
  {
   "cell_type": "code",
   "execution_count": 10,
   "id": "bf6b6491",
   "metadata": {},
   "outputs": [
    {
     "data": {
      "text/plain": [
       "[30, 50, 40, 50]"
      ]
     },
     "execution_count": 10,
     "metadata": {},
     "output_type": "execute_result"
    }
   ],
   "source": [
    "# Update an element within a list\n",
    "fruit_qty_consumed[\"Avocado\"][3] = 50\n",
    "fruit_qty_consumed[\"Avocado\"]"
   ]
  },
  {
   "cell_type": "code",
   "execution_count": 13,
   "id": "579b3231",
   "metadata": {},
   "outputs": [
    {
     "data": {
      "text/plain": [
       "{'Banana': {'Fri': 70, 'Sat': 80, 'Sun': 95},\n",
       " 'Apple': {'Fri': 90, 'Sat': 95, 'Sun': 110},\n",
       " 'Apricot': {'Fri': 70, 'Sat': 85, 'Sun': 95},\n",
       " 'Orange': {'Fri': 80, 'Sat': 90, 'Sun': 100},\n",
       " 'Avocado': {'Fri': 60, 'Sat': 70, 'Sun': 80}}"
      ]
     },
     "execution_count": 13,
     "metadata": {},
     "output_type": "execute_result"
    }
   ],
   "source": [
    "# Values of dictionaries can be dictionaries also\n",
    "fruit_qty_consumed = {\n",
    "    \"Banana\" : {\"Fri\" : 70, \"Sat\" : 80, \"Sun\" : 95},\n",
    "    \"Apple\" : {\"Fri\" : 90, \"Sat\" : 95, \"Sun\" : 110},\n",
    "    \"Apricot\" : {\"Fri\" : 70, \"Sat\" : 85, \"Sun\" : 95},\n",
    "    \"Orange\" : {\"Fri\" : 80, \"Sat\" : 90, \"Sun\" : 100},\n",
    "    \"Avocado\" : {\"Fri\" : 60, \"Sat\" : 70, \"Sun\" : 80},\n",
    "}\n",
    "\n",
    "fruit_qty_consumed"
   ]
  },
  {
   "cell_type": "code",
   "execution_count": 12,
   "id": "1a5e86d7",
   "metadata": {},
   "outputs": [
    {
     "data": {
      "text/plain": [
       "70"
      ]
     },
     "execution_count": 12,
     "metadata": {},
     "output_type": "execute_result"
    }
   ],
   "source": [
    "# print a key from a nested dictionary\n",
    "fruit_qty_consumed[\"Banana\"][\"Fri\"]"
   ]
  },
  {
   "cell_type": "code",
   "execution_count": null,
   "id": "9cb865ab",
   "metadata": {},
   "outputs": [],
   "source": []
  }
 ],
 "metadata": {
  "kernelspec": {
   "display_name": "Python 3 (ipykernel)",
   "language": "python",
   "name": "python3"
  },
  "language_info": {
   "codemirror_mode": {
    "name": "ipython",
    "version": 3
   },
   "file_extension": ".py",
   "mimetype": "text/x-python",
   "name": "python",
   "nbconvert_exporter": "python",
   "pygments_lexer": "ipython3",
   "version": "3.11.1"
  }
 },
 "nbformat": 4,
 "nbformat_minor": 5
}

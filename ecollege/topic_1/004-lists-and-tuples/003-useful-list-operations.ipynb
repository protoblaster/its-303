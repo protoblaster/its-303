{
 "cells": [
  {
   "cell_type": "code",
   "execution_count": 2,
   "metadata": {},
   "outputs": [
    {
     "data": {
      "text/plain": [
       "['Chevrolet Cruse', 'Chevrolet Malibu']"
      ]
     },
     "execution_count": 2,
     "metadata": {},
     "output_type": "execute_result"
    }
   ],
   "source": [
    "complete_cars_list = [\"Chevrolet Cruse\", \"Chevrolet Malibu\"]\n",
    "complete_cars_list"
   ]
  },
  {
   "cell_type": "code",
   "execution_count": 3,
   "metadata": {},
   "outputs": [
    {
     "name": "stdout",
     "output_type": "stream",
     "text": [
      "['Chevrolet Cruse', 'Chevrolet Malibu']\n"
     ]
    },
    {
     "data": {
      "text/plain": [
       "['Chevrolet Malibu', 'Chevrolet Cruse']"
      ]
     },
     "execution_count": 3,
     "metadata": {},
     "output_type": "execute_result"
    }
   ],
   "source": [
    "# sort the list in lexicographic format\n",
    "complete_cars_list.sort()\n",
    "print(complete_cars_list)\n",
    "\n",
    "# reverse the list, so that last element is first\n",
    "complete_cars_list.reverse()\n",
    "complete_cars_list"
   ]
  },
  {
   "cell_type": "code",
   "execution_count": 4,
   "metadata": {},
   "outputs": [],
   "source": [
    "complete_cars_list = ['Toyota Camry',\n",
    " 'Nissan Sentra',\n",
    " 'Nissan Micra',\n",
    " 'Honda Civic',\n",
    " 'nissan altima',\n",
    " 'Toyota Corrola',\n",
    " 'Hyundai Elantra',\n",
    " 'Bugatti',\n",
    " 'Mc Laren 12c Spider',\n",
    " 'Porsche',] "
   ]
  },
  {
   "cell_type": "code",
   "execution_count": 5,
   "metadata": {},
   "outputs": [
    {
     "data": {
      "text/plain": [
       "['Toyota Camry',\n",
       " 'Nissan Sentra',\n",
       " 'Nissan Micra',\n",
       " 'Honda Civic',\n",
       " 'nissan altima',\n",
       " 'Toyota Corrola',\n",
       " 'Hyundai Elantra',\n",
       " 'Bugatti',\n",
       " 'Mc Laren 12c Spider']"
      ]
     },
     "execution_count": 5,
     "metadata": {},
     "output_type": "execute_result"
    }
   ],
   "source": [
    "#.pop() method removes an element from the list\n",
    "complete_cars_list.pop()\n",
    "complete_cars_list"
   ]
  },
  {
   "cell_type": "code",
   "execution_count": 6,
   "metadata": {},
   "outputs": [
    {
     "data": {
      "text/plain": [
       "1"
      ]
     },
     "execution_count": 6,
     "metadata": {},
     "output_type": "execute_result"
    }
   ],
   "source": [
    "# .count() counts the amount of times an element appears\n",
    "# in a list\n",
    "complete_cars_list.count(\"Honda Civic\")"
   ]
  },
  {
   "cell_type": "code",
   "execution_count": 8,
   "metadata": {},
   "outputs": [
    {
     "data": {
      "text/plain": [
       "set"
      ]
     },
     "execution_count": 8,
     "metadata": {},
     "output_type": "execute_result"
    }
   ],
   "source": [
    "# to convert a list to a set, simply use type cast to\n",
    "# set\n",
    "set(complete_cars_list)\n",
    "complete_cars_list\n",
    "type(set(complete_cars_list))"
   ]
  },
  {
   "cell_type": "code",
   "execution_count": 9,
   "metadata": {},
   "outputs": [
    {
     "name": "stdout",
     "output_type": "stream",
     "text": [
      "['Toyota Camry', 'Honda Accord', 'Honda Civic', 'Toyota Corolla, Hyundai Elantra', 'Nissan Altima', 'Nissan Sentra', 'Kia Optima', 'Kia Soul']\n"
     ]
    }
   ],
   "source": [
    "cars_list = [\"Toyota Camry\", \"Honda Accord\", \"Honda Civic\",\n",
    "            \"Toyota Corolla, Hyundai Elantra\", \"Nissan Altima\",\n",
    "            \"Nissan Sentra\", \"Kia Optima\", \"Kia Soul\"]\n",
    "print(cars_list)"
   ]
  },
  {
   "cell_type": "code",
   "execution_count": 10,
   "metadata": {},
   "outputs": [
    {
     "data": {
      "text/plain": [
       "[]"
      ]
     },
     "execution_count": 10,
     "metadata": {},
     "output_type": "execute_result"
    }
   ],
   "source": [
    "# .clear() method removes all mathods from a list\n",
    "cars_list.clear()\n",
    "cars_list"
   ]
  },
  {
   "cell_type": "code",
   "execution_count": 11,
   "metadata": {},
   "outputs": [],
   "source": [
    "# To copy a list we need to import the copy library\n",
    "import copy\n",
    "new_cars_list = copy.deepcopy(complete_cars_list)"
   ]
  },
  {
   "cell_type": "code",
   "execution_count": 12,
   "metadata": {},
   "outputs": [],
   "source": [
    "# complete cars list will be delete\n",
    "del complete_cars_list"
   ]
  },
  {
   "cell_type": "code",
   "execution_count": 13,
   "metadata": {},
   "outputs": [
    {
     "data": {
      "text/plain": [
       "['Toyota Camry',\n",
       " 'Nissan Sentra',\n",
       " 'Nissan Micra',\n",
       " 'Honda Civic',\n",
       " 'nissan altima',\n",
       " 'Toyota Corrola',\n",
       " 'Hyundai Elantra',\n",
       " 'Bugatti',\n",
       " 'Mc Laren 12c Spider']"
      ]
     },
     "execution_count": 13,
     "metadata": {},
     "output_type": "execute_result"
    }
   ],
   "source": [
    "new_cars_list"
   ]
  },
  {
   "cell_type": "code",
   "execution_count": 14,
   "metadata": {},
   "outputs": [
    {
     "data": {
      "text/plain": [
       "['Toyota Camry',\n",
       " 'Nissan Sentra',\n",
       " 'Nissan Micra',\n",
       " 'Honda Civic',\n",
       " 'nissan altima',\n",
       " 'Toyota Corrola',\n",
       " 'Hyundai Elantra',\n",
       " 'Bugatti',\n",
       " 'Mc Laren 12c Spider']"
      ]
     },
     "execution_count": 14,
     "metadata": {},
     "output_type": "execute_result"
    }
   ],
   "source": [
    "# Shallow copy ---> Setting a new list equal to another list\n",
    "#                   the shallow copy will change if the original list is modified\n",
    "another_cars_list = new_cars_list\n",
    "another_cars_list"
   ]
  },
  {
   "cell_type": "code",
   "execution_count": null,
   "metadata": {},
   "outputs": [],
   "source": []
  }
 ],
 "metadata": {
  "kernelspec": {
   "display_name": "Python 3 (ipykernel)",
   "language": "python",
   "name": "python3"
  },
  "language_info": {
   "codemirror_mode": {
    "name": "ipython",
    "version": 3
   },
   "file_extension": ".py",
   "mimetype": "text/x-python",
   "name": "python",
   "nbconvert_exporter": "python",
   "pygments_lexer": "ipython3",
   "version": "3.11.1"
  },
  "vscode": {
   "interpreter": {
    "hash": "d1a186577162ba11607a970ebd70215fc0f1f8bc47ad659b27fb851ecf6a4880"
   }
  }
 },
 "nbformat": 4,
 "nbformat_minor": 2
}

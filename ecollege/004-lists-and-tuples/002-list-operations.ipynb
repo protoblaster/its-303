{
 "cells": [
  {
   "cell_type": "code",
   "execution_count": 1,
   "metadata": {},
   "outputs": [
    {
     "data": {
      "text/plain": [
       "['Toyota Camry', 'Nissan Micra', 'Honda Civic', 'Toyota Corrola']"
      ]
     },
     "execution_count": 1,
     "metadata": {},
     "output_type": "execute_result"
    }
   ],
   "source": [
    "cars_list = [\"Toyota Camry\", \"Nissan Micra\",\n",
    "            \"Honda Civic\", \"Toyota Corrola\"]\n",
    "\n",
    "cars_list"
   ]
  },
  {
   "cell_type": "code",
   "execution_count": 3,
   "metadata": {},
   "outputs": [
    {
     "ename": "IndexError",
     "evalue": "list assignment index out of range",
     "output_type": "error",
     "traceback": [
      "\u001b[1;31m---------------------------------------------------------------------------\u001b[0m",
      "\u001b[1;31mIndexError\u001b[0m                                Traceback (most recent call last)",
      "Cell \u001b[1;32mIn[3], line 1\u001b[0m\n\u001b[1;32m----> 1\u001b[0m cars_list[\u001b[39m4\u001b[39;49m] \u001b[39m=\u001b[39m \u001b[39m\"\u001b[39m\u001b[39mHyundai Elantra\u001b[39m\u001b[39m\"\u001b[39m\n\u001b[0;32m      2\u001b[0m cars_list\n",
      "\u001b[1;31mIndexError\u001b[0m: list assignment index out of range"
     ]
    }
   ],
   "source": [
    "# We can only add an element using .append() method\n",
    "cars_list[4] = \"Hyundai Elantra\"\n",
    "cars_list"
   ]
  },
  {
   "cell_type": "code",
   "execution_count": 6,
   "metadata": {},
   "outputs": [
    {
     "data": {
      "text/plain": [
       "['Toyota Camry',\n",
       " 'Nissan Sentra',\n",
       " 'Nissan Micra',\n",
       " 'Honda Civic',\n",
       " 'Toyota Corrola',\n",
       " 'Hyundai Elantra',\n",
       " 'Hyundai Elantra']"
      ]
     },
     "execution_count": 6,
     "metadata": {},
     "output_type": "execute_result"
    }
   ],
   "source": [
    "# .append() takes only one element\n",
    "cars_list.append(\"Hyundai Elantra\")\n",
    "cars_list"
   ]
  },
  {
   "cell_type": "code",
   "execution_count": 7,
   "metadata": {},
   "outputs": [
    {
     "data": {
      "text/plain": [
       "['Toyota Camry',\n",
       " 'Nissan Sentra',\n",
       " 'Nissan Sentra',\n",
       " 'Nissan Micra',\n",
       " 'Honda Civic',\n",
       " 'Toyota Corrola',\n",
       " 'Hyundai Elantra',\n",
       " 'Hyundai Elantra']"
      ]
     },
     "execution_count": 7,
     "metadata": {},
     "output_type": "execute_result"
    }
   ],
   "source": [
    "# .insert(x, value) can also add elements\n",
    "cars_list.insert(1, \"Nissan Sentra\")\n",
    "cars_list"
   ]
  },
  {
   "cell_type": "code",
   "execution_count": 8,
   "metadata": {},
   "outputs": [
    {
     "data": {
      "text/plain": [
       "8"
      ]
     },
     "execution_count": 8,
     "metadata": {},
     "output_type": "execute_result"
    }
   ],
   "source": [
    "len(cars_list)"
   ]
  },
  {
   "cell_type": "code",
   "execution_count": 9,
   "metadata": {},
   "outputs": [
    {
     "data": {
      "text/plain": [
       "['Toyota Camry',\n",
       " 'Nissan Sentra',\n",
       " 'Nissan Sentra',\n",
       " 'Nissan Micra',\n",
       " 'Honda Civic',\n",
       " 'nissan altima',\n",
       " 'Toyota Corrola',\n",
       " 'Hyundai Elantra',\n",
       " 'Hyundai Elantra']"
      ]
     },
     "execution_count": 9,
     "metadata": {},
     "output_type": "execute_result"
    }
   ],
   "source": [
    "cars_list.insert(5, \"nissan altima\")\n",
    "cars_list"
   ]
  },
  {
   "cell_type": "code",
   "execution_count": 10,
   "metadata": {},
   "outputs": [
    {
     "data": {
      "text/plain": [
       "['Toyota Camry',\n",
       " 'Nissan Sentra',\n",
       " 'Nissan Sentra',\n",
       " 'Nissan Micra',\n",
       " 'Honda Civic',\n",
       " 'nissan altima',\n",
       " 'Toyota Corrola',\n",
       " 'Hyundai Elantra',\n",
       " 'Hyundai Elantra',\n",
       " 'Bugatti',\n",
       " 'Mc Laren 12c Spider',\n",
       " 'Porsche']"
      ]
     },
     "execution_count": 10,
     "metadata": {},
     "output_type": "execute_result"
    }
   ],
   "source": [
    "# .extend([list] combines 2 lists)\n",
    "cars_list_2 = [\"Bugatti\", \"McLaren 12c Spider\", \"Porsche\"]\n",
    "cars_list.extend([\"Bugatti\", \"Mc Laren 12c Spider\", \"Porsche\"])\n",
    "cars_list"
   ]
  },
  {
   "cell_type": "code",
   "execution_count": 11,
   "metadata": {},
   "outputs": [
    {
     "data": {
      "text/plain": [
       "['Toyota Camry',\n",
       " 'Nissan Sentra',\n",
       " 'Nissan Sentra',\n",
       " 'Nissan Micra',\n",
       " 'Honda Civic',\n",
       " 'nissan altima',\n",
       " 'Toyota Corrola',\n",
       " 'Hyundai Elantra',\n",
       " 'Hyundai Elantra',\n",
       " 'Bugatti',\n",
       " 'Mc Laren 12c Spider',\n",
       " 'Porsche',\n",
       " 'Bugatti',\n",
       " 'McLaren 12c Spider',\n",
       " 'Porsche']"
      ]
     },
     "execution_count": 11,
     "metadata": {},
     "output_type": "execute_result"
    }
   ],
   "source": [
    "complete_cars_list = cars_list + cars_list_2\n",
    "complete_cars_list"
   ]
  }
 ],
 "metadata": {
  "kernelspec": {
   "display_name": "Python 3",
   "language": "python",
   "name": "python3"
  },
  "language_info": {
   "codemirror_mode": {
    "name": "ipython",
    "version": 3
   },
   "file_extension": ".py",
   "mimetype": "text/x-python",
   "name": "python",
   "nbconvert_exporter": "python",
   "pygments_lexer": "ipython3",
   "version": "3.11.1 (tags/v3.11.1:a7a450f, Dec  6 2022, 19:58:39) [MSC v.1934 64 bit (AMD64)]"
  },
  "orig_nbformat": 4,
  "vscode": {
   "interpreter": {
    "hash": "d1a186577162ba11607a970ebd70215fc0f1f8bc47ad659b27fb851ecf6a4880"
   }
  }
 },
 "nbformat": 4,
 "nbformat_minor": 2
}

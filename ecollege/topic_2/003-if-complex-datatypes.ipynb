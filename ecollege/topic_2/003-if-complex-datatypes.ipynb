{
 "cells": [
  {
   "cell_type": "code",
   "execution_count": 1,
   "id": "0e8073b7",
   "metadata": {},
   "outputs": [
    {
     "data": {
      "text/plain": [
       "('Alice', 'Alexa', 'Robert', 'Bella')"
      ]
     },
     "execution_count": 1,
     "metadata": {},
     "output_type": "execute_result"
    }
   ],
   "source": [
    "tuple_teachers = (\"Alice\", \"Alexa\", \"Robert\", \"Bella\")\n",
    "tuple_teachers"
   ]
  },
  {
   "cell_type": "code",
   "execution_count": 2,
   "id": "ada6b7ae",
   "metadata": {},
   "outputs": [
    {
     "name": "stdout",
     "output_type": "stream",
     "text": [
      "Alexa is a teacher\n"
     ]
    }
   ],
   "source": [
    "if \"Alexa\" in tuple_teachers:\n",
    "    print(\"Alexa is a teacher\")"
   ]
  },
  {
   "cell_type": "code",
   "execution_count": 3,
   "id": "fbc36ef8",
   "metadata": {},
   "outputs": [
    {
     "data": {
      "text/plain": [
       "{'Ayden': 60, 'Gavin': 85, 'Ian': 76, 'Jose': 70, 'Jane': 82}"
      ]
     },
     "execution_count": 3,
     "metadata": {},
     "output_type": "execute_result"
    }
   ],
   "source": [
    "student_score = {\"Ayden\":60, \n",
    "                 \"Gavin\":85,\n",
    "                 \"Ian\":76,\n",
    "                 \"Jose\":70,\n",
    "                 \"Jane\":82}\n",
    "student_score"
   ]
  },
  {
   "cell_type": "code",
   "execution_count": 4,
   "id": "23d1ddca",
   "metadata": {},
   "outputs": [
    {
     "name": "stdout",
     "output_type": "stream",
     "text": [
      "Ian is in the student_score dictionary\n"
     ]
    }
   ],
   "source": [
    "if \"Ian\" in student_score:\n",
    "    print(\"Ian is in the student_score dictionary\")"
   ]
  },
  {
   "cell_type": "code",
   "execution_count": 5,
   "id": "c02e99c4",
   "metadata": {},
   "outputs": [
    {
     "name": "stdout",
     "output_type": "stream",
     "text": [
      "Jane's Score: 82\n"
     ]
    }
   ],
   "source": [
    "if \"Jane\" in student_score:\n",
    "    print(\"Jane's Score:\", student_score[\"Jane\"])"
   ]
  },
  {
   "cell_type": "code",
   "execution_count": 6,
   "id": "e5bdc115",
   "metadata": {},
   "outputs": [
    {
     "name": "stdout",
     "output_type": "stream",
     "text": [
      "Ayden's Score: 60\n"
     ]
    }
   ],
   "source": [
    "if \"Ayden\" in student_score:\n",
    "    print(\"Ayden's Score:\", student_score[\"Ayden\"])"
   ]
  },
  {
   "cell_type": "code",
   "execution_count": 7,
   "id": "4f2e8d53",
   "metadata": {},
   "outputs": [
    {
     "name": "stdout",
     "output_type": "stream",
     "text": [
      "a is greater than b\n"
     ]
    }
   ],
   "source": [
    "a = 60\n",
    "b = 35\n",
    "\n",
    "if a > b and b < a:\n",
    "    print(\"a is greater than b\")"
   ]
  },
  {
   "cell_type": "code",
   "execution_count": 8,
   "id": "d149f858",
   "metadata": {},
   "outputs": [],
   "source": [
    "if a > b and b > a:\n",
    "    print(\"a is greater than b\")"
   ]
  },
  {
   "cell_type": "code",
   "execution_count": 9,
   "id": "642ec048",
   "metadata": {},
   "outputs": [
    {
     "name": "stdout",
     "output_type": "stream",
     "text": [
      "65\n",
      "25\n"
     ]
    }
   ],
   "source": [
    "x_value = 65\n",
    "y_value = 25\n",
    "print(x_value)\n",
    "print(y_value)"
   ]
  },
  {
   "cell_type": "code",
   "execution_count": 11,
   "id": "84dd341a",
   "metadata": {},
   "outputs": [
    {
     "name": "stdout",
     "output_type": "stream",
     "text": [
      "90\n"
     ]
    }
   ],
   "source": [
    "z_value = x_value + y_value\n",
    "print(z_value)"
   ]
  },
  {
   "cell_type": "code",
   "execution_count": 12,
   "id": "c68b4b46",
   "metadata": {},
   "outputs": [
    {
     "name": "stdout",
     "output_type": "stream",
     "text": [
      "Both conditions are True\n"
     ]
    }
   ],
   "source": [
    "if x_value > y_value and y_value < z_value:\n",
    "    print(\"Both conditions are True\")"
   ]
  },
  {
   "cell_type": "code",
   "execution_count": 13,
   "id": "3b5eeb42",
   "metadata": {},
   "outputs": [
    {
     "data": {
      "text/plain": [
       "(60, 35)"
      ]
     },
     "execution_count": 13,
     "metadata": {},
     "output_type": "execute_result"
    }
   ],
   "source": [
    "a,b"
   ]
  },
  {
   "cell_type": "code",
   "execution_count": 14,
   "id": "8f9e7ee2",
   "metadata": {},
   "outputs": [
    {
     "name": "stdout",
     "output_type": "stream",
     "text": [
      "At least one of the conditions is True\n"
     ]
    }
   ],
   "source": [
    "if a > b or b < c:\n",
    "    print(\"At least one of the conditions is True\")"
   ]
  },
  {
   "cell_type": "code",
   "execution_count": 15,
   "id": "bd187369",
   "metadata": {},
   "outputs": [
    {
     "name": "stdout",
     "output_type": "stream",
     "text": [
      "At least one of the conditions is True\n"
     ]
    }
   ],
   "source": [
    "bike_price = 716\n",
    "bike_is_electric = False\n",
    "\n",
    "if bike_price > 500 or bike_is_electric:\n",
    "    print(\"At least one of the conditions is True\")"
   ]
  },
  {
   "cell_type": "code",
   "execution_count": 16,
   "id": "17407758",
   "metadata": {},
   "outputs": [],
   "source": [
    "if bike_price > 1000 or bike_is_electric:\n",
    "    print(\"At least one of the above conditions is True\")"
   ]
  },
  {
   "cell_type": "code",
   "execution_count": 17,
   "id": "d80ce15a",
   "metadata": {},
   "outputs": [
    {
     "name": "stdout",
     "output_type": "stream",
     "text": [
      "It is a human powered bike\n"
     ]
    }
   ],
   "source": [
    "# bike_is_electric = False so not bike_is_electric becomes True\n",
    "if not bike_is_electric:\n",
    "    print(\"It is a human powered bike\")"
   ]
  },
  {
   "cell_type": "code",
   "execution_count": 18,
   "id": "6843a1ea",
   "metadata": {},
   "outputs": [],
   "source": [
    "x = 45\n",
    "y = 78\n",
    "\n",
    "if not (x < y):\n",
    "    print(\"x is not less than y\")"
   ]
  },
  {
   "cell_type": "code",
   "execution_count": 19,
   "id": "0b6c8fc5",
   "metadata": {},
   "outputs": [
    {
     "name": "stdout",
     "output_type": "stream",
     "text": [
      "x is not less than y\n"
     ]
    }
   ],
   "source": [
    "if not (x > y):\n",
    "    print(\"x is not less than y\")"
   ]
  },
  {
   "cell_type": "code",
   "execution_count": null,
   "id": "a8308cb7",
   "metadata": {},
   "outputs": [],
   "source": []
  }
 ],
 "metadata": {
  "kernelspec": {
   "display_name": "Python 3 (ipykernel)",
   "language": "python",
   "name": "python3"
  },
  "language_info": {
   "codemirror_mode": {
    "name": "ipython",
    "version": 3
   },
   "file_extension": ".py",
   "mimetype": "text/x-python",
   "name": "python",
   "nbconvert_exporter": "python",
   "pygments_lexer": "ipython3",
   "version": "3.11.1"
  }
 },
 "nbformat": 4,
 "nbformat_minor": 5
}

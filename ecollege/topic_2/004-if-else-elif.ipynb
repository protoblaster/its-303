{
 "cells": [
  {
   "cell_type": "code",
   "execution_count": 1,
   "id": "f02ec941",
   "metadata": {},
   "outputs": [
    {
     "name": "stdout",
     "output_type": "stream",
     "text": [
      "10 is less than 20\n",
      "Else block activated\n"
     ]
    }
   ],
   "source": [
    "# If-Else statements --- an if statement can be combined\n",
    "# with an else statement \n",
    "\n",
    "if 10 > 20:\n",
    "    print(\"10 is greater than 20\")\n",
    "    print(\"If block activated\")\n",
    "else:\n",
    "    print(\"10 is less than 20\")\n",
    "    print(\"Else block activated\")"
   ]
  },
  {
   "cell_type": "code",
   "execution_count": 2,
   "id": "d876abfb",
   "metadata": {},
   "outputs": [
    {
     "data": {
      "text/plain": [
       "7160"
      ]
     },
     "execution_count": 2,
     "metadata": {},
     "output_type": "execute_result"
    }
   ],
   "source": [
    "bike_price = 7160\n",
    "bike_price"
   ]
  },
  {
   "cell_type": "code",
   "execution_count": 3,
   "id": "0abfc035",
   "metadata": {},
   "outputs": [
    {
     "name": "stdout",
     "output_type": "stream",
     "text": [
      "It is a cheap bike\n",
      "If block activated\n"
     ]
    }
   ],
   "source": [
    "if bike_price <= 8000:\n",
    "    print(\"It is a cheap bike\")\n",
    "    print(\"If block activated\")\n",
    "else:\n",
    "    print(\"It is an expensive bike\")\n",
    "    print(\"Else block activated\")"
   ]
  },
  {
   "cell_type": "code",
   "execution_count": 5,
   "id": "6f7bf530",
   "metadata": {},
   "outputs": [
    {
     "ename": "SyntaxError",
     "evalue": "invalid syntax (257956218.py, line 5)",
     "output_type": "error",
     "traceback": [
      "\u001b[1;36m  Cell \u001b[1;32mIn[5], line 5\u001b[1;36m\u001b[0m\n\u001b[1;33m    else:\u001b[0m\n\u001b[1;37m    ^\u001b[0m\n\u001b[1;31mSyntaxError\u001b[0m\u001b[1;31m:\u001b[0m invalid syntax\n"
     ]
    }
   ],
   "source": [
    "# This code will throw an indentation error\n",
    "\n",
    "bike_price = 9000\n",
    "\n",
    "if bike_price <= 8000:\n",
    "    print(\"It is a cheap bike\")\n",
    "    else:\n",
    "    print(\"It is an expensive bike\")"
   ]
  },
  {
   "cell_type": "code",
   "execution_count": 6,
   "id": "9960497a",
   "metadata": {},
   "outputs": [
    {
     "name": "stdout",
     "output_type": "stream",
     "text": [
      "It is an expensive bike\n"
     ]
    }
   ],
   "source": [
    "# Correcting the indentation error\n",
    "\n",
    "bike_price = 9000\n",
    "\n",
    "if bike_price <= 8000:\n",
    "    print(\"It is a cheap bike\")\n",
    "else:\n",
    "    print(\"It is an expensive bike\")"
   ]
  },
  {
   "cell_type": "code",
   "execution_count": 8,
   "id": "cc436bfb",
   "metadata": {},
   "outputs": [
    {
     "name": "stdout",
     "output_type": "stream",
     "text": [
      "num before experession: 50\n",
      "num after expression: 30\n"
     ]
    }
   ],
   "source": [
    "# If-Else statement on one line (using turnary operator)\n",
    "num = 50\n",
    "print(\"num before experession:\", num)\n",
    "\n",
    "num = num - 20 if num > 20 else num + 20\n",
    "print(\"num after expression:\", num)"
   ]
  },
  {
   "cell_type": "code",
   "execution_count": 9,
   "id": "afda721c",
   "metadata": {},
   "outputs": [
    {
     "name": "stdout",
     "output_type": "stream",
     "text": [
      "num before expression: 50\n",
      "num after expression: 30\n"
     ]
    }
   ],
   "source": [
    "# Same code as the one above, just written differently\n",
    "\n",
    "num = 50\n",
    "print(\"num before expression:\", num)\n",
    "\n",
    "if num > 20:\n",
    "    num = num - 20\n",
    "else:\n",
    "    num = num + 20\n",
    "    \n",
    "print(\"num after expression:\", num)"
   ]
  },
  {
   "cell_type": "code",
   "execution_count": 11,
   "id": "0d7817fc",
   "metadata": {},
   "outputs": [
    {
     "name": "stdout",
     "output_type": "stream",
     "text": [
      "num before expression: 100\n",
      "number after expression 500\n"
     ]
    }
   ],
   "source": [
    "# Turnary Operator\n",
    "num = 100\n",
    "print(\"num before expression:\", num)\n",
    "\n",
    "result = num / 5 if num < 50 else num * 5\n",
    "\n",
    "print(\"number after expression\", result)"
   ]
  },
  {
   "cell_type": "code",
   "execution_count": 12,
   "id": "69786839",
   "metadata": {},
   "outputs": [
    {
     "name": "stdout",
     "output_type": "stream",
     "text": [
      "15 is less than 20\n",
      "Elif block activated\n"
     ]
    }
   ],
   "source": [
    "if 15 > 20:\n",
    "    print(\"15 is greater than 20\")\n",
    "    print(\"If block activated\")\n",
    "elif 15 < 20:\n",
    "    print(\"15 is less than 20\")\n",
    "    print(\"Elif block activated\")\n",
    "else:\n",
    "    print(\"Both are equal\")\n",
    "    print(\"Else block activated\")"
   ]
  },
  {
   "cell_type": "code",
   "execution_count": 13,
   "id": "d1c82fb4",
   "metadata": {},
   "outputs": [
    {
     "name": "stdout",
     "output_type": "stream",
     "text": [
      "a and b are equal\n",
      "Elif block activated\n"
     ]
    }
   ],
   "source": [
    "a = 45\n",
    "b = 45\n",
    "\n",
    "if b > a:\n",
    "    print(\"B is greater than A\")\n",
    "    print(\"If block activated\")\n",
    "elif a == b:\n",
    "    print(\"a and b are equal\")\n",
    "    print(\"Elif block activated\")\n",
    "else:\n",
    "    print(\"a is greater than b\")\n",
    "    print(\"Else block activated\")"
   ]
  },
  {
   "cell_type": "code",
   "execution_count": null,
   "id": "2e4252ca",
   "metadata": {},
   "outputs": [],
   "source": []
  }
 ],
 "metadata": {
  "kernelspec": {
   "display_name": "Python 3 (ipykernel)",
   "language": "python",
   "name": "python3"
  },
  "language_info": {
   "codemirror_mode": {
    "name": "ipython",
    "version": 3
   },
   "file_extension": ".py",
   "mimetype": "text/x-python",
   "name": "python",
   "nbconvert_exporter": "python",
   "pygments_lexer": "ipython3",
   "version": "3.11.1"
  }
 },
 "nbformat": 4,
 "nbformat_minor": 5
}

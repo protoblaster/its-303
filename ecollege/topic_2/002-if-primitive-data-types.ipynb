{
 "cells": [
  {
   "cell_type": "code",
   "execution_count": 1,
   "id": "e1f75d06",
   "metadata": {},
   "outputs": [
    {
     "data": {
      "text/plain": [
       "('Alice', 'Alexa', 'Robert', 'Bella')"
      ]
     },
     "execution_count": 1,
     "metadata": {},
     "output_type": "execute_result"
    }
   ],
   "source": [
    "tuple_teachers = (\"Alice\", \"Alexa\", \"Robert\", \"Bella\")\n",
    "tuple_teachers"
   ]
  },
  {
   "cell_type": "code",
   "execution_count": 2,
   "id": "3f6c7727",
   "metadata": {},
   "outputs": [
    {
     "name": "stdout",
     "output_type": "stream",
     "text": [
      "Alexa is a teacher\n"
     ]
    }
   ],
   "source": [
    "if \"Alexa\" in tuple_teachers:\n",
    "    print(\"Alexa is a teacher\")"
   ]
  },
  {
   "cell_type": "code",
   "execution_count": 3,
   "id": "bf70b92b",
   "metadata": {},
   "outputs": [
    {
     "data": {
      "text/plain": [
       "{'Ayden': 60, 'Gavin': 85, 'Ian': 76, 'Jose': 70, 'Jane': 82}"
      ]
     },
     "execution_count": 3,
     "metadata": {},
     "output_type": "execute_result"
    }
   ],
   "source": [
    "student_score = {\"Ayden\":60,\n",
    "                 \"Gavin\":85,\n",
    "                 \"Ian\":76,\n",
    "                 \"Jose\":70,\n",
    "                 \"Jane\":82}\n",
    "student_score"
   ]
  },
  {
   "cell_type": "code",
   "execution_count": 4,
   "id": "bdee878a",
   "metadata": {},
   "outputs": [
    {
     "name": "stdout",
     "output_type": "stream",
     "text": [
      "Ian is in the student_score dictionary\n"
     ]
    }
   ],
   "source": [
    "if \"Ian\" in student_score:\n",
    "    print(\"Ian is in the student_score dictionary\")"
   ]
  },
  {
   "cell_type": "code",
   "execution_count": 5,
   "id": "0ef4b5e3",
   "metadata": {},
   "outputs": [
    {
     "name": "stdout",
     "output_type": "stream",
     "text": [
      "Jane's Score: 82\n"
     ]
    }
   ],
   "source": [
    "if \"Jane\" in student_score:\n",
    "    print(\"Jane's Score:\", student_score[\"Jane\"])"
   ]
  },
  {
   "cell_type": "code",
   "execution_count": 6,
   "id": "c9b10481",
   "metadata": {},
   "outputs": [
    {
     "name": "stdout",
     "output_type": "stream",
     "text": [
      "10 is less than 15\n"
     ]
    }
   ],
   "source": [
    "if 10 < 15:\n",
    "    print(\"10 is less than 15\")"
   ]
  },
  {
   "cell_type": "code",
   "execution_count": 7,
   "id": "70d8bd12",
   "metadata": {},
   "outputs": [
    {
     "name": "stdout",
     "output_type": "stream",
     "text": [
      "46 is greater than 45\n"
     ]
    }
   ],
   "source": [
    "if 46 > 40 + 5:\n",
    "    print(\"46 is greater than 45\")"
   ]
  },
  {
   "cell_type": "code",
   "execution_count": 8,
   "id": "971aa296",
   "metadata": {},
   "outputs": [
    {
     "ename": "IndentationError",
     "evalue": "expected an indented block after 'if' statement on line 2 (4225493916.py, line 4)",
     "output_type": "error",
     "traceback": [
      "\u001b[1;36m  Cell \u001b[1;32mIn[8], line 4\u001b[1;36m\u001b[0m\n\u001b[1;33m    print(\"46 is greater than 40\")\u001b[0m\n\u001b[1;37m    ^\u001b[0m\n\u001b[1;31mIndentationError\u001b[0m\u001b[1;31m:\u001b[0m expected an indented block after 'if' statement on line 2\n"
     ]
    }
   ],
   "source": [
    "# This code will give an indentation error\n",
    "if 46 > 40:\n",
    "    \n",
    "print(\"46 is greater than 40\")"
   ]
  },
  {
   "cell_type": "code",
   "execution_count": 9,
   "id": "ab6bdef4",
   "metadata": {},
   "outputs": [],
   "source": [
    "# Nothing gets printed because x is greater than y\n",
    "x_value = 65\n",
    "y_value = 25\n",
    "\n",
    "if x_value < y_value:\n",
    "    print(\"Value of x is less than value of y\")"
   ]
  },
  {
   "cell_type": "code",
   "execution_count": 10,
   "id": "32f9b1e6",
   "metadata": {},
   "outputs": [
    {
     "name": "stdout",
     "output_type": "stream",
     "text": [
      "Yes, 'python' is in my_str\n"
     ]
    }
   ],
   "source": [
    "my_str = \"Hello python world\"\n",
    "if \"python\" in my_str:\n",
    "    print(\"Yes, 'python' is in my_str\")"
   ]
  },
  {
   "cell_type": "code",
   "execution_count": 11,
   "id": "9bf69b44",
   "metadata": {},
   "outputs": [
    {
     "data": {
      "text/plain": [
       "['Ayden', 'Gavin', 'Ian', 'Jose', 'Jane']"
      ]
     },
     "execution_count": 11,
     "metadata": {},
     "output_type": "execute_result"
    }
   ],
   "source": [
    "list_student = [\"Ayden\", \"Gavin\", \"Ian\", \"Jose\", \"Jane\"]\n",
    "list_student"
   ]
  },
  {
   "cell_type": "code",
   "execution_count": 12,
   "id": "8bb3b3f3",
   "metadata": {},
   "outputs": [
    {
     "name": "stdout",
     "output_type": "stream",
     "text": [
      "Jose is a student\n"
     ]
    }
   ],
   "source": [
    "if \"Jose\" in list_student:\n",
    "    print(\"Jose is a student\")"
   ]
  },
  {
   "cell_type": "code",
   "execution_count": null,
   "id": "ca660fce",
   "metadata": {},
   "outputs": [],
   "source": []
  }
 ],
 "metadata": {
  "kernelspec": {
   "display_name": "Python 3 (ipykernel)",
   "language": "python",
   "name": "python3"
  },
  "language_info": {
   "codemirror_mode": {
    "name": "ipython",
    "version": 3
   },
   "file_extension": ".py",
   "mimetype": "text/x-python",
   "name": "python",
   "nbconvert_exporter": "python",
   "pygments_lexer": "ipython3",
   "version": "3.11.1"
  }
 },
 "nbformat": 4,
 "nbformat_minor": 5
}

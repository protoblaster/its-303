{
 "cells": [
  {
   "cell_type": "code",
   "execution_count": 1,
   "id": "2be456cf",
   "metadata": {},
   "outputs": [],
   "source": [
    "# Nested if else statement --- an if statement within an\n",
    "# if statement\n",
    "bike_price = 20000"
   ]
  },
  {
   "cell_type": "code",
   "execution_count": 2,
   "id": "3f28de90",
   "metadata": {},
   "outputs": [],
   "source": [
    "if bike_price < 6000:\n",
    "    print(\"It is a cheap bike\")\n",
    "    \n",
    "elif bike_price >= 6000 and bike_price < 10000:\n",
    "    print(\"It is a moderately priced bike\")\n",
    "    \n",
    "elif bike_price >= 10000 and bike_price < 15000:\n",
    "    print(\"It is a somewhat expensive bike\")\n",
    "    "
   ]
  },
  {
   "cell_type": "code",
   "execution_count": 4,
   "id": "51c1a8e9",
   "metadata": {},
   "outputs": [
    {
     "name": "stdout",
     "output_type": "stream",
     "text": [
      "It is a somewhat expensive bike\n"
     ]
    }
   ],
   "source": [
    "if bike_price < 6000:\n",
    "    print(\"It is a cheap bike\")\n",
    "    \n",
    "elif bike_price >= 6000 and bike_price < 10000:\n",
    "    print(\"It is a moderately priced bike\")\n",
    "    \n",
    "elif bike_price >= 10000:\n",
    "    print(\"It is a somewhat expensive bike\")\n",
    "\n",
    "elif bike_price >= 20000:\n",
    "    print(\"It is a very expensive bike\")"
   ]
  },
  {
   "cell_type": "code",
   "execution_count": 5,
   "id": "bb269dfe",
   "metadata": {},
   "outputs": [
    {
     "name": "stdout",
     "output_type": "stream",
     "text": [
      "The first condition is True\n",
      "Both conditions are True\n"
     ]
    }
   ],
   "source": [
    "# Example of a nested if statement\n",
    "x = 25\n",
    "y = 35\n",
    "z = 45\n",
    "\n",
    "if x < y:\n",
    "    print(\"The first condition is True\")\n",
    "    \n",
    "    if x < z:\n",
    "        print(\"Both conditions are True\")\n",
    "        \n",
    "    else:\n",
    "        print(\"The first condition is True, the second condition is False\")"
   ]
  },
  {
   "cell_type": "code",
   "execution_count": 6,
   "id": "bf5514ea",
   "metadata": {},
   "outputs": [
    {
     "name": "stdout",
     "output_type": "stream",
     "text": [
      "The first condition is False\n"
     ]
    }
   ],
   "source": [
    "# Another Example of nested if statements\n",
    "x = 55\n",
    "\n",
    "if x < y:\n",
    "    print(\"The first condition is True\")\n",
    "    \n",
    "    if x < z:\n",
    "        print(\"Both conditions are True\")\n",
    "        \n",
    "    else:\n",
    "        print(\"The first condition is True, the second one is False\")\n",
    "\n",
    "else:\n",
    "    print(\"The first condition is False\")"
   ]
  },
  {
   "cell_type": "code",
   "execution_count": 1,
   "id": "c54d579f",
   "metadata": {},
   "outputs": [
    {
     "name": "stdout",
     "output_type": "stream",
     "text": [
      "Enter your age: 16\n",
      "You are the right age for this camping trip\n"
     ]
    }
   ],
   "source": [
    "age = int(input(\"Enter your age: \"))\n",
    "\n",
    "if age >= 15:\n",
    "    \n",
    "    if age > 20:\n",
    "        print(\"You are too old for this camping trip\")\n",
    "    else:\n",
    "        print(\"You are the right age for this camping trip\")\n",
    "\n",
    "else:\n",
    "    print(\"You are too young for this camping trip\")"
   ]
  },
  {
   "cell_type": "code",
   "execution_count": 6,
   "id": "77995f43",
   "metadata": {},
   "outputs": [
    {
     "name": "stdout",
     "output_type": "stream",
     "text": [
      "What is the total amount of your online shopping: 40\n",
      "USA or Canada: canada\n",
      "Shipping cost is $12.00\n"
     ]
    }
   ],
   "source": [
    "total = int(input(\"What is the total amount of your online shopping: \"))\n",
    "country = input(\"USA or Canada: \")\n",
    "\n",
    "if country == \"usa\":\n",
    "    if total <= 50:\n",
    "        print(\"Shipping cost is $9.00\")\n",
    "        \n",
    "    elif total <= 100:\n",
    "        print(\"Shipping cost is $6.00\")\n",
    "        \n",
    "    else:\n",
    "        print(\"Shipping is FREE\")\n",
    "        \n",
    "if country == \"canada\":\n",
    "    if total <= 50:\n",
    "        print(\"Shipping cost is $12.00\")\n",
    "        \n",
    "    elif total <= 100:\n",
    "        print(\"Shipping cost is $8.00\")\n",
    "        \n",
    "    else:\n",
    "        print(\"Shipping is FREE\")"
   ]
  }
 ],
 "metadata": {
  "kernelspec": {
   "display_name": "Python 3 (ipykernel)",
   "language": "python",
   "name": "python3"
  },
  "language_info": {
   "codemirror_mode": {
    "name": "ipython",
    "version": 3
   },
   "file_extension": ".py",
   "mimetype": "text/x-python",
   "name": "python",
   "nbconvert_exporter": "python",
   "pygments_lexer": "ipython3",
   "version": "3.11.1"
  }
 },
 "nbformat": 4,
 "nbformat_minor": 5
}

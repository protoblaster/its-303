{
 "cells": [
  {
   "cell_type": "code",
   "execution_count": 1,
   "id": "e6c31e95",
   "metadata": {},
   "outputs": [
    {
     "data": {
      "text/plain": [
       "True"
      ]
     },
     "execution_count": 1,
     "metadata": {},
     "output_type": "execute_result"
    }
   ],
   "source": [
    "# Title of file: Python Conditions\n",
    "# Notes\n",
    "# -----\n",
    "# == is comparision while = is equal to assignment\n",
    "10 == 10"
   ]
  },
  {
   "cell_type": "code",
   "execution_count": 2,
   "id": "4c18b408",
   "metadata": {},
   "outputs": [
    {
     "data": {
      "text/plain": [
       "False"
      ]
     },
     "execution_count": 2,
     "metadata": {},
     "output_type": "execute_result"
    }
   ],
   "source": [
    "10 == 20"
   ]
  },
  {
   "cell_type": "code",
   "execution_count": 3,
   "id": "8de5e87b",
   "metadata": {},
   "outputs": [
    {
     "data": {
      "text/plain": [
       "False"
      ]
     },
     "execution_count": 3,
     "metadata": {},
     "output_type": "execute_result"
    }
   ],
   "source": [
    "20 == \"Hello world\""
   ]
  },
  {
   "cell_type": "code",
   "execution_count": 4,
   "id": "bb041127",
   "metadata": {},
   "outputs": [
    {
     "data": {
      "text/plain": [
       "True"
      ]
     },
     "execution_count": 4,
     "metadata": {},
     "output_type": "execute_result"
    }
   ],
   "source": [
    "# Strings must be written exactly the same when \n",
    "# comparing them for a True value. Example below:\n",
    "\"Hello\" == \"Hello\""
   ]
  },
  {
   "cell_type": "code",
   "execution_count": 5,
   "id": "948e307c",
   "metadata": {},
   "outputs": [
    {
     "data": {
      "text/plain": [
       "False"
      ]
     },
     "execution_count": 5,
     "metadata": {},
     "output_type": "execute_result"
    }
   ],
   "source": [
    "# != is inequality\n",
    "20 != 20"
   ]
  },
  {
   "cell_type": "code",
   "execution_count": 6,
   "id": "677ce1a9",
   "metadata": {},
   "outputs": [
    {
     "data": {
      "text/plain": [
       "True"
      ]
     },
     "execution_count": 6,
     "metadata": {},
     "output_type": "execute_result"
    }
   ],
   "source": [
    "20 != 10"
   ]
  },
  {
   "cell_type": "code",
   "execution_count": 7,
   "id": "8203e73c",
   "metadata": {},
   "outputs": [
    {
     "data": {
      "text/plain": [
       "True"
      ]
     },
     "execution_count": 7,
     "metadata": {},
     "output_type": "execute_result"
    }
   ],
   "source": [
    "# The equality/inequality check can be used on variables\n",
    "# as well as without them\n",
    "a = \"Hello\"\n",
    "a == \"Hello\""
   ]
  },
  {
   "cell_type": "code",
   "execution_count": 8,
   "id": "61de8240",
   "metadata": {},
   "outputs": [
    {
     "data": {
      "text/plain": [
       "True"
      ]
     },
     "execution_count": 8,
     "metadata": {},
     "output_type": "execute_result"
    }
   ],
   "source": [
    "a != \"Python\""
   ]
  },
  {
   "cell_type": "code",
   "execution_count": 9,
   "id": "6e3b1baf",
   "metadata": {},
   "outputs": [
    {
     "name": "stdout",
     "output_type": "stream",
     "text": [
      "True\n",
      "False\n",
      "False\n",
      "True\n"
     ]
    }
   ],
   "source": [
    "print(10 < 20)\n",
    "print(10 < 9)\n",
    "print(10 < 10)\n",
    "print(15 < 20)"
   ]
  },
  {
   "cell_type": "code",
   "execution_count": 10,
   "id": "a16e2a88",
   "metadata": {},
   "outputs": [
    {
     "name": "stdout",
     "output_type": "stream",
     "text": [
      "False\n",
      "True\n",
      "False\n",
      "False\n"
     ]
    }
   ],
   "source": [
    "print(20 <= 15)\n",
    "print(20 <= 20)\n",
    "print(20 < 20)\n",
    "print(10 >= 20)"
   ]
  },
  {
   "cell_type": "code",
   "execution_count": 11,
   "id": "e81981f6",
   "metadata": {},
   "outputs": [
    {
     "data": {
      "text/plain": [
       "True"
      ]
     },
     "execution_count": 11,
     "metadata": {},
     "output_type": "execute_result"
    }
   ],
   "source": [
    "# Operator precedence --- This exists in python and\n",
    "# PEMDAS is applied (Parenthesis, Exponent, Multiply\n",
    "#                    Divide, Add, Subtract)\n",
    "2 + 3 < 6"
   ]
  },
  {
   "cell_type": "code",
   "execution_count": 12,
   "id": "2f01b752",
   "metadata": {},
   "outputs": [
    {
     "data": {
      "text/plain": [
       "True"
      ]
     },
     "execution_count": 12,
     "metadata": {},
     "output_type": "execute_result"
    }
   ],
   "source": [
    "(2 + 3) < 6"
   ]
  },
  {
   "cell_type": "code",
   "execution_count": 13,
   "id": "1beb4ad7",
   "metadata": {},
   "outputs": [
    {
     "data": {
      "text/plain": [
       "True"
      ]
     },
     "execution_count": 13,
     "metadata": {},
     "output_type": "execute_result"
    }
   ],
   "source": [
    "8 + 5 > 10"
   ]
  },
  {
   "cell_type": "code",
   "execution_count": 14,
   "id": "9ede98fe",
   "metadata": {},
   "outputs": [
    {
     "data": {
      "text/plain": [
       "True"
      ]
     },
     "execution_count": 14,
     "metadata": {},
     "output_type": "execute_result"
    }
   ],
   "source": [
    "8 + 5 == 10 + 3"
   ]
  },
  {
   "cell_type": "code",
   "execution_count": 15,
   "id": "a7a083d2",
   "metadata": {},
   "outputs": [
    {
     "data": {
      "text/plain": [
       "False"
      ]
     },
     "execution_count": 15,
     "metadata": {},
     "output_type": "execute_result"
    }
   ],
   "source": [
    "2 * 5 > 10"
   ]
  },
  {
   "cell_type": "code",
   "execution_count": 16,
   "id": "f2da3385",
   "metadata": {},
   "outputs": [
    {
     "data": {
      "text/plain": [
       "False"
      ]
     },
     "execution_count": 16,
     "metadata": {},
     "output_type": "execute_result"
    }
   ],
   "source": [
    "# modulus --- prints the remainder of division \n",
    "#             (if there is one)\n",
    "40 % 3 == 0"
   ]
  },
  {
   "cell_type": "code",
   "execution_count": 17,
   "id": "783e9e59",
   "metadata": {},
   "outputs": [
    {
     "data": {
      "text/plain": [
       "True"
      ]
     },
     "execution_count": 17,
     "metadata": {},
     "output_type": "execute_result"
    }
   ],
   "source": [
    "40 % 2 == 0"
   ]
  },
  {
   "cell_type": "code",
   "execution_count": 18,
   "id": "56a0930c",
   "metadata": {},
   "outputs": [
    {
     "data": {
      "text/plain": [
       "True"
      ]
     },
     "execution_count": 18,
     "metadata": {},
     "output_type": "execute_result"
    }
   ],
   "source": [
    "# Logical Operators (And, Or, Not)\n",
    "5 > 3 and 4 < 6"
   ]
  },
  {
   "cell_type": "code",
   "execution_count": 19,
   "id": "18ec9c58",
   "metadata": {},
   "outputs": [
    {
     "data": {
      "text/plain": [
       "False"
      ]
     },
     "execution_count": 19,
     "metadata": {},
     "output_type": "execute_result"
    }
   ],
   "source": [
    "# 10 = 10 but 10 != True\n",
    "10 == 10 == True"
   ]
  },
  {
   "cell_type": "code",
   "execution_count": 20,
   "id": "3fad75c0",
   "metadata": {},
   "outputs": [
    {
     "data": {
      "text/plain": [
       "True"
      ]
     },
     "execution_count": 20,
     "metadata": {},
     "output_type": "execute_result"
    }
   ],
   "source": [
    "# Logical Operator --- Or = at least 1 condition must be\n",
    "#                      true for the entire statement to be\n",
    "#                      true\n",
    "5 > 3 or 4 > 2"
   ]
  },
  {
   "cell_type": "code",
   "execution_count": 24,
   "id": "038070ac",
   "metadata": {},
   "outputs": [
    {
     "data": {
      "text/plain": [
       "True"
      ]
     },
     "execution_count": 24,
     "metadata": {},
     "output_type": "execute_result"
    }
   ],
   "source": [
    "# Logical Operator --- Not = Inverts True and False values\n",
    "#                      Example: True becomes false and false\n",
    "#                      becomes true\n",
    "not(5 > 3 and 4 < 2)"
   ]
  },
  {
   "cell_type": "code",
   "execution_count": 25,
   "id": "40a25d93",
   "metadata": {},
   "outputs": [
    {
     "data": {
      "text/plain": [
       "False"
      ]
     },
     "execution_count": 25,
     "metadata": {},
     "output_type": "execute_result"
    }
   ],
   "source": [
    "not(5 > 3 or 4 < 6)"
   ]
  },
  {
   "cell_type": "code",
   "execution_count": null,
   "id": "67d8c142",
   "metadata": {},
   "outputs": [],
   "source": []
  }
 ],
 "metadata": {
  "kernelspec": {
   "display_name": "Python 3 (ipykernel)",
   "language": "python",
   "name": "python3"
  },
  "language_info": {
   "codemirror_mode": {
    "name": "ipython",
    "version": 3
   },
   "file_extension": ".py",
   "mimetype": "text/x-python",
   "name": "python",
   "nbconvert_exporter": "python",
   "pygments_lexer": "ipython3",
   "version": "3.11.1"
  }
 },
 "nbformat": 4,
 "nbformat_minor": 5
}

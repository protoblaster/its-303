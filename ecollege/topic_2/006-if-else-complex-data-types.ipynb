{
 "cells": [
  {
   "cell_type": "code",
   "execution_count": 1,
   "id": "091898be",
   "metadata": {},
   "outputs": [
    {
     "data": {
      "text/plain": [
       "['apple', 'orange', 'grape', 'banana', 'avocado']"
      ]
     },
     "execution_count": 1,
     "metadata": {},
     "output_type": "execute_result"
    }
   ],
   "source": [
    "fruit_list = [\"apple\",\n",
    "              \"orange\",\n",
    "              \"grape\",\n",
    "              \"banana\",\n",
    "              \"avocado\"]\n",
    "fruit_list"
   ]
  },
  {
   "cell_type": "code",
   "execution_count": 2,
   "id": "b81b632e",
   "metadata": {},
   "outputs": [
    {
     "name": "stdout",
     "output_type": "stream",
     "text": [
      "'grape' is in the list\n"
     ]
    }
   ],
   "source": [
    "# IN --- allows you to check if something is in a str\n",
    "# or list\n",
    "if \"grape\" in fruit_list:\n",
    "    print(\"'grape' is in the list\")\n",
    "else:\n",
    "    print(\"'grape' is not in the list\")"
   ]
  },
  {
   "cell_type": "code",
   "execution_count": 3,
   "id": "6fb96e3a",
   "metadata": {},
   "outputs": [
    {
     "name": "stdout",
     "output_type": "stream",
     "text": [
      "'orange' is in fruit_list\n"
     ]
    }
   ],
   "source": [
    "if \"strawberry\" in fruit_list:\n",
    "    print(\"'strawberry' is in fruit_list\")\n",
    "elif \"orange\" in fruit_list:\n",
    "    print(\"'orange' is in fruit_list\")\n",
    "else:\n",
    "    print(\"Both 'strawberry' and 'orange' are not in fruit_list\")"
   ]
  },
  {
   "cell_type": "code",
   "execution_count": 4,
   "id": "0cec9779",
   "metadata": {},
   "outputs": [
    {
     "name": "stdout",
     "output_type": "stream",
     "text": [
      "True\n"
     ]
    }
   ],
   "source": [
    "# check if an element is in fruit_list using index\n",
    "if fruit_list[1] == \"orange\":\n",
    "    print(\"True\")\n",
    "else:\n",
    "    print(\"False\")"
   ]
  },
  {
   "cell_type": "code",
   "execution_count": 5,
   "id": "851de093",
   "metadata": {},
   "outputs": [
    {
     "name": "stdout",
     "output_type": "stream",
     "text": [
      "'avocado' is at the 4th index\n",
      "Replacing 'avocado' with 'strawberry' at 4th index\n",
      "['apple', 'orange', 'grape', 'banana', 'strawberry']\n"
     ]
    }
   ],
   "source": [
    "# replace avocado in fruit_list at [4]\n",
    "if fruit_list[4] == \"avocado\":\n",
    "    print(\"'avocado' is at the 4th index\")\n",
    "    print(\"Replacing 'avocado' with 'strawberry' at 4th index\")\n",
    "    \n",
    "    fruit_list[4] = \"strawberry\"\n",
    "    print(fruit_list)\n",
    "    \n",
    "else:\n",
    "    print(\"'avocado' is not at the 4th index\")"
   ]
  },
  {
   "cell_type": "code",
   "execution_count": 7,
   "id": "af57744c",
   "metadata": {},
   "outputs": [
    {
     "name": "stdout",
     "output_type": "stream",
     "text": [
      "('Toyota Camry', 'Honda Accord', 'Honda Civic', 'Toyota Corolla')\n",
      "<class 'tuple'>\n"
     ]
    }
   ],
   "source": [
    "car_tuple = (\"Toyota Camry\",\n",
    "             \"Honda Accord\",\n",
    "             \"Honda Civic\",\n",
    "             \"Toyota Corolla\")\n",
    "print(car_tuple)\n",
    "print(type(car_tuple))"
   ]
  },
  {
   "cell_type": "code",
   "execution_count": 8,
   "id": "657bd472",
   "metadata": {},
   "outputs": [
    {
     "name": "stdout",
     "output_type": "stream",
     "text": [
      "'Honda Accord' is in car_tuple\n"
     ]
    }
   ],
   "source": [
    "if \"Honda Accord\" in car_tuple:\n",
    "    print(\"'Honda Accord' is in car_tuple\")\n",
    "else:\n",
    "    print(\"'Honda Accord' is not present in car_tuple\")"
   ]
  },
  {
   "cell_type": "code",
   "execution_count": 9,
   "id": "feafd0fe",
   "metadata": {},
   "outputs": [
    {
     "name": "stdout",
     "output_type": "stream",
     "text": [
      "'Ducati Monster' is not a car\n"
     ]
    }
   ],
   "source": [
    "if \"Ducati Monster\" in car_tuple:\n",
    "    print(\"'Ducati Monster' is a car\")\n",
    "    \n",
    "else:\n",
    "    print(\"'Ducati Monster' is not a car\")"
   ]
  },
  {
   "cell_type": "code",
   "execution_count": 10,
   "id": "d8c57f64",
   "metadata": {},
   "outputs": [
    {
     "name": "stdout",
     "output_type": "stream",
     "text": [
      "At least one of 'Ducati Monster' and 'Honda Accord' is not a car\n"
     ]
    }
   ],
   "source": [
    "# checking more than one element of tuple/list/str/int etc\n",
    "# is possible using AND\n",
    "if \"Ducati Monster\" in car_tuple and \"Honda Accord\" in car_tuple:\n",
    "    print(\"'Ducati Monster' and 'Honda Accord' are both cars\")\n",
    "    \n",
    "else:\n",
    "    print(\"At least one of 'Ducati Monster' and 'Honda Accord' is not a car\")"
   ]
  },
  {
   "cell_type": "code",
   "execution_count": 11,
   "id": "b6b1d7ef",
   "metadata": {},
   "outputs": [
    {
     "name": "stdout",
     "output_type": "stream",
     "text": [
      "At least one of 'Ducati Monster' and 'Honda Accord' is a car\n"
     ]
    }
   ],
   "source": [
    "# checking if at least one of x elements is in car_tuple\n",
    "# using OR\n",
    "if \"Ducati Monster\" or \"Honda Accord\" in car_tuple:\n",
    "    print(\"At least one of 'Ducati Monster' and 'Honda Accord' is a car\")\n",
    "else:\n",
    "    print(\"Neither 'Ducati Monster' nor 'Honda Accord' is a car\")"
   ]
  },
  {
   "cell_type": "code",
   "execution_count": 12,
   "id": "853bff88",
   "metadata": {},
   "outputs": [
    {
     "data": {
      "text/plain": [
       "{'Lisa': 25000,\n",
       " 'Jason': 45000,\n",
       " 'Cooper': 35000,\n",
       " 'Elias': 23000,\n",
       " 'Jordan': 77000}"
      ]
     },
     "execution_count": 12,
     "metadata": {},
     "output_type": "execute_result"
    }
   ],
   "source": [
    "# dict of salaries\n",
    "salary_details = {\n",
    "    \"Lisa\":25000,\n",
    "    \"Jason\":45000,\n",
    "    \"Cooper\":35000,\n",
    "    \"Elias\":23000,\n",
    "    \"Jordan\":77000\n",
    "}\n",
    "\n",
    "salary_details"
   ]
  },
  {
   "cell_type": "code",
   "execution_count": 13,
   "id": "e5a17c1f",
   "metadata": {},
   "outputs": [
    {
     "name": "stdout",
     "output_type": "stream",
     "text": [
      "We have details for Lisa\n"
     ]
    }
   ],
   "source": [
    "if \"Lisa\" in salary_details:\n",
    "    print(\"We have details for Lisa\")\n",
    "else:\n",
    "    print(\"We don't have details for Lisa\")"
   ]
  },
  {
   "cell_type": "code",
   "execution_count": 14,
   "id": "1443c974",
   "metadata": {},
   "outputs": [
    {
     "name": "stdout",
     "output_type": "stream",
     "text": [
      "We don't have details for Ruby\n"
     ]
    }
   ],
   "source": [
    "if \"Ruby\" in salary_details:\n",
    "    print(\"We have details for Ruby\")\n",
    "else:\n",
    "    print(\"We don't have details for Ruby\")"
   ]
  },
  {
   "cell_type": "code",
   "execution_count": 15,
   "id": "0ba8f2a8",
   "metadata": {},
   "outputs": [
    {
     "name": "stdout",
     "output_type": "stream",
     "text": [
      "Cora's annual income is 31000\n"
     ]
    }
   ],
   "source": [
    "# check if value(s) exist in dict and if not update dict\n",
    "if \"Cora\" in salary_details:\n",
    "    print(\"We have details for Cora\")\n",
    "else:\n",
    "    salary_details[\"Cora\"] = 31000\n",
    "    print(\"Cora's annual income is %s\"%salary_details[\"Cora\"])"
   ]
  },
  {
   "cell_type": "code",
   "execution_count": 16,
   "id": "4707d409",
   "metadata": {},
   "outputs": [
    {
     "data": {
      "text/plain": [
       "{'Lisa': 25000,\n",
       " 'Jason': 45000,\n",
       " 'Cooper': 35000,\n",
       " 'Elias': 23000,\n",
       " 'Jordan': 77000,\n",
       " 'Cora': 31000}"
      ]
     },
     "execution_count": 16,
     "metadata": {},
     "output_type": "execute_result"
    }
   ],
   "source": [
    "salary_details"
   ]
  },
  {
   "cell_type": "code",
   "execution_count": 18,
   "id": "5ffb5fdf",
   "metadata": {},
   "outputs": [
    {
     "data": {
      "text/plain": [
       "{'Lisa': 25, 'Jason': 30, 'Cooper': 29, 'Sarah': 22}"
      ]
     },
     "execution_count": 18,
     "metadata": {},
     "output_type": "execute_result"
    }
   ],
   "source": [
    "age_details = {\"Lisa\":25,\n",
    "              \"Jason\":30,\n",
    "              \"Cooper\":29,\n",
    "              \"Sarah\":22}\n",
    "age_details"
   ]
  },
  {
   "cell_type": "code",
   "execution_count": 19,
   "id": "b84e1561",
   "metadata": {},
   "outputs": [
    {
     "name": "stdout",
     "output_type": "stream",
     "text": [
      "Jason is older than Lisa\n",
      "Jason is older than Cooper\n",
      "Jason is the oldest person in the dictionary\n"
     ]
    }
   ],
   "source": [
    "if age_details[\"Lisa\"] < age_details[\"Jason\"]:\n",
    "    print(\"Jason is older than Lisa\")\n",
    "    \n",
    "    if age_details[\"Jason\"] > age_details[\"Cooper\"]:\n",
    "        print(\"Jason is older than Cooper\")\n",
    "        \n",
    "        if age_details[\"Cooper\"] < age_details[\"Sarah\"]:\n",
    "            print(\"Cooper is younger than Sarah\")\n",
    "        \n",
    "        elif age_details[\"Cooper\"] > age_details[\"Sarah\"]:\n",
    "            print(\"Jason is the oldest person in the dictionary\")\n",
    "            \n",
    "else:\n",
    "    print(\"Jason is not the oldest person in the dictionary\")"
   ]
  },
  {
   "cell_type": "code",
   "execution_count": 20,
   "id": "82697bd1",
   "metadata": {},
   "outputs": [
    {
     "name": "stdout",
     "output_type": "stream",
     "text": [
      "[['Jane', 'Amanda', 'Emma'], [35, 40, 50], [20000, 50000, 40000]]\n"
     ]
    }
   ],
   "source": [
    "# Nested lists --- Lists within Lists\n",
    "details = [[\"Jane\", \"Amanda\", \"Emma\"],\n",
    "          [35, 40, 50],\n",
    "          [20000, 50000, 40000]]\n",
    "\n",
    "print(details)"
   ]
  },
  {
   "cell_type": "code",
   "execution_count": 21,
   "id": "e2760f80",
   "metadata": {},
   "outputs": [
    {
     "name": "stdout",
     "output_type": "stream",
     "text": [
      "Amanda has the highest salary and her age is greater than 30\n"
     ]
    }
   ],
   "source": [
    "max_sal = max(details[2])\n",
    "\n",
    "if (details[2][1] == max_sal):\n",
    "    \n",
    "    if (details[1][1] > 30):\n",
    "        print(details[0][1], \"has the highest salary and her age is greater than 30\")\n",
    "        \n",
    "    elif (details[1][1] == 30):\n",
    "        print(details[0][1], \"has the highest salary and she is 30 years old\")\n",
    "        \n",
    "    else:\n",
    "        print(\"Amanda has the highest salary and her age is less than 30\")\n",
    "\n",
    "else:\n",
    "    print(\"Amanda is not the highest paid employee\")"
   ]
  },
  {
   "cell_type": "code",
   "execution_count": null,
   "id": "c5773aba",
   "metadata": {},
   "outputs": [],
   "source": []
  }
 ],
 "metadata": {
  "kernelspec": {
   "display_name": "Python 3 (ipykernel)",
   "language": "python",
   "name": "python3"
  },
  "language_info": {
   "codemirror_mode": {
    "name": "ipython",
    "version": 3
   },
   "file_extension": ".py",
   "mimetype": "text/x-python",
   "name": "python",
   "nbconvert_exporter": "python",
   "pygments_lexer": "ipython3",
   "version": "3.11.1"
  }
 },
 "nbformat": 4,
 "nbformat_minor": 5
}
